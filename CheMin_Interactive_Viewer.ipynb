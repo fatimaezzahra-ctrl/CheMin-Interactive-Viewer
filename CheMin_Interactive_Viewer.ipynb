{
 "cells": [
  {
   "cell_type": "markdown",
   "id": "84fba254",
   "metadata": {},
   "source": [
    "# Interactive Visualization of CheMin Mineral Data on Mars\n",
    "\n",
    "This Python Dash app visualizes mineral abundances measured by the CheMin instrument aboard the Curiosity rover.\n",
    "It provides interactive plots and maps using preprocessed datasets:\n",
    "- `combined_chemin_data_all_sols.csv`\n",
    "- `combined_sol_data.csv`\n"
   ]
  },
  {
   "cell_type": "markdown",
   "id": "e63f93fa",
   "metadata": {},
   "source": [
    "## Load Combined CSV Files"
   ]
  },
  {
   "cell_type": "code",
   "execution_count": 3,
   "id": "1e872f18",
   "metadata": {},
   "outputs": [],
   "source": [
    "import dash\n",
    "import dash_leaflet as dl\n",
    "from dash import html, dcc\n",
    "import pandas as pd\n",
    "import plotly.express as px\n",
    "from dash.dependencies import Input, Output\n",
    "\n",
    "# Load preprocessed data (must be placed in ./data/)\n",
    "sol_coords_elevation = pd.read_csv('./data/combined_sol_data.csv')\n",
    "sols_all_data = pd.read_csv('./data/combined_chemin_data_all_sols.csv')\n",
    "\n",
    "# Create Dash app\n",
    "app = dash.Dash(__name__)\n",
    "\n",
    "# Layout\n",
    "app.layout = html.Div([\n",
    "    html.H1(\"Sols on Mars with Mineral Data and Geographical Information\"),\n",
    "    \n",
    "    dcc.Dropdown(\n",
    "        id='sol-dropdown',\n",
    "        options=[{'label': f'Sol {sol}', 'value': sol} for sol in sols_all_data['sol'].unique()],\n",
    "        value=sols_all_data['sol'].unique()[0],\n",
    "        clearable=False,\n",
    "        style={'width': '50%'}\n",
    "    ),\n",
    "    \n",
    "    dcc.Graph(id='mineral-abundance-plot'),\n",
    "    \n",
    "    html.Div(id='geo-info', style={'padding': '20px', 'fontSize': '16px'}),\n",
    "    \n",
    "    dl.Map([\n",
    "        dl.ImageOverlay(\n",
    "            url=\"https://corsproxy.io/?https://astrogeology.usgs.gov/ckan/dataset/06137610-fb79-4b45-a5ef-63c4869d48b2/resource/dfb28a0a-dd06-40c9-b7e2-2c7d79e0487a/download/msl_gale_orthophoto_mosaic_1024.jpg\",\n",
    "            bounds=[[-5.249525, 137.094719], [-4.068583, 137.853896]],\n",
    "            opacity=0.8\n",
    "        ),\n",
    "        dl.LayerGroup(id=\"layer\")\n",
    "    ], style={'width': '100%', 'height': '500px'}, center=[-4.5895, 137.4417], zoom=10)\n",
    "])\n"
   ]
  },
  {
   "cell_type": "markdown",
   "id": "c8768aae",
   "metadata": {},
   "source": [
    "## Callback Logic"
   ]
  },
  {
   "cell_type": "code",
   "execution_count": 6,
   "id": "580429c3",
   "metadata": {},
   "outputs": [],
   "source": [
    "@app.callback(\n",
    "    [Output('mineral-abundance-plot', 'figure'),\n",
    "     Output('geo-info', 'children'),\n",
    "     Output('layer', 'children')],\n",
    "    [Input('sol-dropdown', 'value')]\n",
    ")\n",
    "def update_graph_and_map(selected_sol):\n",
    "    filtered_data = sols_all_data[sols_all_data['sol'] == selected_sol]\n",
    "    \n",
    "    fig = px.scatter(\n",
    "        filtered_data,\n",
    "        x='MINERAL',\n",
    "        y='PERCENT',\n",
    "        error_y='ERROR',\n",
    "        title=f\"Mineral Abundance for Sol {selected_sol}\",\n",
    "        labels={'PERCENT': 'Abundance (%)', 'MINERAL': 'Minerals'}\n",
    "    )\n",
    "    fig.update_traces(marker=dict(color='blue', size=10, line=dict(width=1, color='DarkSlateGrey')))\n",
    "    fig.update_layout(showlegend=False, xaxis_title=\"Mineral\", yaxis_title=\"Mineral Abundance (%)\",\n",
    "                      font=dict(size=14), margin=dict(l=40, r=40, t=50, b=100), xaxis_tickangle=45)\n",
    "\n",
    "    geo_info = sol_coords_elevation[sol_coords_elevation['sol'] == selected_sol]\n",
    "    if not geo_info.empty:\n",
    "        lat, lon, elev = geo_info.iloc[0][['latitude', 'longitude', 'elevation']]\n",
    "        geo_text = f\"Latitude: {lat}, Longitude: {lon}, Elevation: {elev} m\"\n",
    "        markers = [dl.Marker(position=[lat, lon], children=[\n",
    "            dl.Tooltip(f\"Sol {selected_sol}\"),\n",
    "            dl.Popup(f\"Sol {selected_sol}<br>Elevation: {elev} m\")\n",
    "        ])]\n",
    "    else:\n",
    "        geo_text = \"No geographical information available for this sol.\"\n",
    "        markers = []\n",
    "    \n",
    "    return fig, geo_text, markers\n"
   ]
  },
  {
   "cell_type": "markdown",
   "id": "c41c18af",
   "metadata": {},
   "source": [
    "## Run the App"
   ]
  },
  {
   "cell_type": "code",
   "execution_count": 11,
   "id": "fed91f07",
   "metadata": {},
   "outputs": [
    {
     "data": {
      "text/html": [
       "\n",
       "        <iframe\n",
       "            width=\"100%\"\n",
       "            height=\"650\"\n",
       "            src=\"http://127.0.0.1:8052/\"\n",
       "            frameborder=\"0\"\n",
       "            allowfullscreen\n",
       "            \n",
       "        ></iframe>\n",
       "        "
      ],
      "text/plain": [
       "<IPython.lib.display.IFrame at 0x12d525b1ac0>"
      ]
     },
     "metadata": {},
     "output_type": "display_data"
    }
   ],
   "source": [
    "if __name__ == \"__main__\":\n",
    "    app.run_server(debug=True, port=8052)\n"
   ]
  },
  {
   "cell_type": "code",
   "execution_count": null,
   "id": "4f2ede45-c649-453c-8cad-d6e665a12a13",
   "metadata": {},
   "outputs": [],
   "source": []
  }
 ],
 "metadata": {
  "kernelspec": {
   "display_name": "Python 3 (ipykernel)",
   "language": "python",
   "name": "python3"
  },
  "language_info": {
   "codemirror_mode": {
    "name": "ipython",
    "version": 3
   },
   "file_extension": ".py",
   "mimetype": "text/x-python",
   "name": "python",
   "nbconvert_exporter": "python",
   "pygments_lexer": "ipython3",
   "version": "3.12.3"
  }
 },
 "nbformat": 4,
 "nbformat_minor": 5
}
